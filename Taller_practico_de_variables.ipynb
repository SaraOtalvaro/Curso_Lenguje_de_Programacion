{
  "nbformat": 4,
  "nbformat_minor": 0,
  "metadata": {
    "colab": {
      "provenance": []
    },
    "kernelspec": {
      "name": "python3",
      "display_name": "Python 3"
    },
    "language_info": {
      "name": "python"
    }
  },
  "cells": [
    {
      "cell_type": "markdown",
      "source": [
        "### Taller Práctico: Variables en Python para Ingeniería Financiera\n",
        "\n",
        "# Introducción\n",
        "# En este taller, aprenderás a utilizar diferentes tipos de variables en Python\n",
        "# a través de ejercicios prácticos aplicados a escenarios financieros."
      ],
      "metadata": {
        "id": "Bo6nh2CyULcw"
      }
    },
    {
      "cell_type": "code",
      "source": [
        "# Ejercicio 1: Variables tipo string\n",
        "# Contexto: Un banco necesita almacenar el nombre de sus clientes. almacena 5 clientes en 5 variables diferentes\n"
      ],
      "metadata": {
        "id": "5jA7bjhcXcWI"
      },
      "execution_count": null,
      "outputs": []
    },
    {
      "cell_type": "markdown",
      "source": [
        "Resultado:"
      ],
      "metadata": {
        "id": "GmV9EQUzXuWv"
      }
    },
    {
      "cell_type": "code",
      "source": [
        "#Ingrese codigo aquí\n",
        "client1=\"Maria Fernandez\"\n",
        "client2=\"Lorenzo Gomez\"\n",
        "client3=\"Amelia Ocampo\"\n",
        "client4=\"Erick Acevedo\"\n",
        "client5=\"Benjamin Zapata\"\n",
        "print(\"El usuario en realizar el primer registro en el banco fue:\",client1)\n",
        "print(client2, \"Abrio una cuenta en el banco\")\n",
        "print(\"Ahorrar y hacer compras para\", client3, \"ahora es más fácil con el su tarjeta de crédito.\")\n",
        "print(client4, \"y su amigo\", client5, \"pueden transferir dinero desde sus cuentas, con la App Móvil del Banco.\")"
      ],
      "metadata": {
        "id": "jA7Qhj2tXwBN",
        "colab": {
          "base_uri": "https://localhost:8080/"
        },
        "outputId": "a1a21bbb-4047-478b-d351-b4616b5e5ca3"
      },
      "execution_count": 7,
      "outputs": [
        {
          "output_type": "stream",
          "name": "stdout",
          "text": [
            "El usuario en realizar el primer registro en el banco fue: Maria Fernandez\n",
            "Lorenzo Gomez Abrio una cuenta en el banco\n",
            "Ahorrar y hacer compras para Amelia Ocampo ahora es más fácil con el su tarjeta de crédito.\n",
            "Erick Acevedo y su amigo Benjamin Zapata pueden transferir dinero desde sus cuentas, con la App Móvil del Banco.\n"
          ]
        }
      ]
    },
    {
      "cell_type": "code",
      "source": [
        "# Ejercicio 2: Concatenación de Strings\n",
        "# Contexto: Al generar reportes, el banco quiere mostrar el tipo de cuenta junto al nombre del cliente. realiza el ejercicio para las 5 variables\n"
      ],
      "metadata": {
        "id": "Sx7DMAgIX2xG"
      },
      "execution_count": null,
      "outputs": []
    },
    {
      "cell_type": "markdown",
      "source": [
        "Resultado"
      ],
      "metadata": {
        "id": "MgijW_JIX8Lu"
      }
    },
    {
      "cell_type": "code",
      "source": [
        "# Ingresa código aqui\n",
        "Tip_Cuenta1= \"AHORROS\"\n",
        "Tip_Cuenta2=\"CORRIENTE\"\n",
        "Tip_Cuenta3=\"AHORRO A LA MANO\"\n",
        "Reporte_cliente= client1 + \"/\" + Tip_Cuenta1\n",
        "Reporte_cliente2= client2 + \"-\" +  client3 + \"/\" + Tip_Cuenta3\n",
        "Reporte_cliente3= client4 + \"/\" + Tip_Cuenta2\n",
        "Reporte_cliente4= Tip_Cuenta1 + \"-\" + Tip_Cuenta3 + \"/\" + client5\n",
        "print(\"La cuenta del cliente es:\", Reporte_cliente)\n",
        "print(\"Estos clientes tienen una cuenta de:\" ,Reporte_cliente2)\n",
        "print(\"Su cuenta es:\", Reporte_cliente3)\n",
        "print(\"Este cliente posee cuentas de:\", Reporte_cliente4)"
      ],
      "metadata": {
        "id": "HjTub7W1X9c8",
        "colab": {
          "base_uri": "https://localhost:8080/"
        },
        "outputId": "552b6f09-1ff5-4e20-bdd1-40d56eba3795"
      },
      "execution_count": 23,
      "outputs": [
        {
          "output_type": "stream",
          "name": "stdout",
          "text": [
            "La cuenta del cliente es: Maria Fernandez/AHORROS\n",
            "Estos clientes tienen una cuenta de: Lorenzo Gomez-Amelia Ocampo/AHORRO A LA MANO\n",
            "Su cuenta es: Erick Acevedo/CORRIENTE\n",
            "Este cliente posee cuentas de: AHORROS-AHORRO A LA MANO/Benjamin Zapata\n"
          ]
        }
      ]
    },
    {
      "cell_type": "code",
      "source": [
        "# Ejercicio 4: Formateo de Variables\n",
        "# Contexto: Un banco necesita mostrar el saldo de un cliente con formato adecuado.\n"
      ],
      "metadata": {
        "id": "BC_aRDtOYKrb"
      },
      "execution_count": null,
      "outputs": []
    },
    {
      "cell_type": "markdown",
      "source": [
        "Resultado"
      ],
      "metadata": {
        "id": "swsBPuJ3YSej"
      }
    },
    {
      "cell_type": "code",
      "source": [
        "#Ingrese el código aquí\n",
        "Saldo= 25466055658\n",
        "Saldo2= 56987865156568461\n",
        "Saldo3= 658265252\n",
        "Mensaje_saldo= f\"El saldo que posee el usuario {client1} esta avaluado por: ${Saldo:,.2f}\"\n",
        "Mensaje_saldo2= f\"{client2} EL Saldo en su cuenta desde su ultimo retiro es de: $ {Saldo2:,.4f}\"\n",
        "Mensaje_saldo3= f\"El dinero que tienen a su favor {client3} , {client4} y {client5} es igual a: ${Saldo3:,}\"\n",
        "print(Mensaje_saldo)\n",
        "print(Mensaje_saldo2)\n",
        "print(Mensaje_saldo3)"
      ],
      "metadata": {
        "id": "NPlztw_KYTzL",
        "colab": {
          "base_uri": "https://localhost:8080/"
        },
        "outputId": "e49fc659-97a1-44df-eca8-71542a536dbe"
      },
      "execution_count": 34,
      "outputs": [
        {
          "output_type": "stream",
          "name": "stdout",
          "text": [
            "El saldo que posee el usuario Maria Fernandez esta avaluado por: $25,466,055,658.00\n",
            "Lorenzo Gomez EL Saldo en su cuenta desde su ultimo retiro es de: $ 56,987,865,156,568,464.0000\n",
            "El dinero que tienen a su favor Amelia Ocampo , Erick Acevedo y Benjamin Zapata es igual a: $658,265,252\n"
          ]
        }
      ]
    },
    {
      "cell_type": "code",
      "source": [
        "# Ejercicio 5: Entrada de Datos\n",
        "# Contexto: Un cliente ingresa su número de identificación para consultar su estado de cuenta. crea para cada cliente una variable de identificacion\n",
        "id_cliente = input(\"Ingrese su número de identificación: \")\n",
        "print(\"ID registrado:\", id_cliente)"
      ],
      "metadata": {
        "id": "I7yQTuYqYcIJ"
      },
      "execution_count": null,
      "outputs": []
    },
    {
      "cell_type": "markdown",
      "source": [
        "Resultado"
      ],
      "metadata": {
        "id": "7vzKHerGYgpt"
      }
    },
    {
      "cell_type": "code",
      "source": [
        "#inserte código aqui"
      ],
      "metadata": {
        "id": "puoOr2v2Yhz5"
      },
      "execution_count": null,
      "outputs": []
    },
    {
      "cell_type": "code",
      "source": [
        "# Ejercicio 6: Variables Booleanas\n",
        "# Contexto: Validar si un cliente tiene derecho a un préstamo. crea tres ejercicios con variables booleanas\n",
        "ingresos_mensuales = 3000\n",
        "historial_crediticio = True\n",
        "es_aprobado = ingresos_mensuales > 2500 and historial_crediticio\n",
        "print(\"¿El cliente es aprobado para el préstamo?:\", es_aprobado)"
      ],
      "metadata": {
        "id": "_zpACyy_YzZ4"
      },
      "execution_count": null,
      "outputs": []
    },
    {
      "cell_type": "markdown",
      "source": [
        "Resultado"
      ],
      "metadata": {
        "id": "q56cMMCW4pr3"
      }
    },
    {
      "cell_type": "code",
      "source": [],
      "metadata": {
        "id": "pc9bmeGe4S25"
      },
      "execution_count": 23,
      "outputs": []
    }
  ]
}